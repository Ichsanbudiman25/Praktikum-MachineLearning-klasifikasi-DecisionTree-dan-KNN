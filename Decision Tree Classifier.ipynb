{
 "cells": [
  {
   "cell_type": "markdown",
   "id": "08dde6cb",
   "metadata": {},
   "source": [
    "# LAPORAN PRAKTIKUM SOAL 3.a"
   ]
  },
  {
   "cell_type": "code",
   "execution_count": 32,
   "id": "468229cc",
   "metadata": {},
   "outputs": [],
   "source": [
    "#Ichsan Budiman Putra_202131153\n",
    "import pandas as pd\n",
    "import numpy as np\n",
    "import matplotlib.pyplot as plt\n",
    "import warnings\n",
    "warnings.filterwarnings(\"ignore\")"
   ]
  },
  {
   "cell_type": "markdown",
   "id": "44624f01",
   "metadata": {},
   "source": [
    "# Decision Tree\n",
    "\n",
    "### Pemanggilan Dataset tennis.csv"
   ]
  },
  {
   "cell_type": "code",
   "execution_count": 21,
   "id": "5039a63c",
   "metadata": {},
   "outputs": [
    {
     "data": {
      "text/html": [
       "<div>\n",
       "<style scoped>\n",
       "    .dataframe tbody tr th:only-of-type {\n",
       "        vertical-align: middle;\n",
       "    }\n",
       "\n",
       "    .dataframe tbody tr th {\n",
       "        vertical-align: top;\n",
       "    }\n",
       "\n",
       "    .dataframe thead th {\n",
       "        text-align: right;\n",
       "    }\n",
       "</style>\n",
       "<table border=\"1\" class=\"dataframe\">\n",
       "  <thead>\n",
       "    <tr style=\"text-align: right;\">\n",
       "      <th></th>\n",
       "      <th>outlook</th>\n",
       "      <th>temp</th>\n",
       "      <th>humidity</th>\n",
       "      <th>windy</th>\n",
       "      <th>play</th>\n",
       "    </tr>\n",
       "  </thead>\n",
       "  <tbody>\n",
       "    <tr>\n",
       "      <th>0</th>\n",
       "      <td>sunny</td>\n",
       "      <td>hot</td>\n",
       "      <td>high</td>\n",
       "      <td>False</td>\n",
       "      <td>no</td>\n",
       "    </tr>\n",
       "    <tr>\n",
       "      <th>1</th>\n",
       "      <td>sunny</td>\n",
       "      <td>hot</td>\n",
       "      <td>high</td>\n",
       "      <td>True</td>\n",
       "      <td>no</td>\n",
       "    </tr>\n",
       "    <tr>\n",
       "      <th>2</th>\n",
       "      <td>overcast</td>\n",
       "      <td>hot</td>\n",
       "      <td>high</td>\n",
       "      <td>False</td>\n",
       "      <td>yes</td>\n",
       "    </tr>\n",
       "    <tr>\n",
       "      <th>3</th>\n",
       "      <td>rainy</td>\n",
       "      <td>mild</td>\n",
       "      <td>high</td>\n",
       "      <td>False</td>\n",
       "      <td>yes</td>\n",
       "    </tr>\n",
       "    <tr>\n",
       "      <th>4</th>\n",
       "      <td>rainy</td>\n",
       "      <td>cool</td>\n",
       "      <td>normal</td>\n",
       "      <td>False</td>\n",
       "      <td>yes</td>\n",
       "    </tr>\n",
       "    <tr>\n",
       "      <th>5</th>\n",
       "      <td>rainy</td>\n",
       "      <td>cool</td>\n",
       "      <td>normal</td>\n",
       "      <td>True</td>\n",
       "      <td>no</td>\n",
       "    </tr>\n",
       "    <tr>\n",
       "      <th>6</th>\n",
       "      <td>overcast</td>\n",
       "      <td>cool</td>\n",
       "      <td>normal</td>\n",
       "      <td>True</td>\n",
       "      <td>yes</td>\n",
       "    </tr>\n",
       "    <tr>\n",
       "      <th>7</th>\n",
       "      <td>sunny</td>\n",
       "      <td>mild</td>\n",
       "      <td>high</td>\n",
       "      <td>False</td>\n",
       "      <td>no</td>\n",
       "    </tr>\n",
       "    <tr>\n",
       "      <th>8</th>\n",
       "      <td>sunny</td>\n",
       "      <td>cool</td>\n",
       "      <td>normal</td>\n",
       "      <td>False</td>\n",
       "      <td>yes</td>\n",
       "    </tr>\n",
       "    <tr>\n",
       "      <th>9</th>\n",
       "      <td>rainy</td>\n",
       "      <td>mild</td>\n",
       "      <td>normal</td>\n",
       "      <td>False</td>\n",
       "      <td>yes</td>\n",
       "    </tr>\n",
       "    <tr>\n",
       "      <th>10</th>\n",
       "      <td>sunny</td>\n",
       "      <td>mild</td>\n",
       "      <td>normal</td>\n",
       "      <td>True</td>\n",
       "      <td>yes</td>\n",
       "    </tr>\n",
       "    <tr>\n",
       "      <th>11</th>\n",
       "      <td>overcast</td>\n",
       "      <td>mild</td>\n",
       "      <td>high</td>\n",
       "      <td>True</td>\n",
       "      <td>yes</td>\n",
       "    </tr>\n",
       "    <tr>\n",
       "      <th>12</th>\n",
       "      <td>overcast</td>\n",
       "      <td>hot</td>\n",
       "      <td>normal</td>\n",
       "      <td>False</td>\n",
       "      <td>yes</td>\n",
       "    </tr>\n",
       "    <tr>\n",
       "      <th>13</th>\n",
       "      <td>rainy</td>\n",
       "      <td>mild</td>\n",
       "      <td>high</td>\n",
       "      <td>True</td>\n",
       "      <td>no</td>\n",
       "    </tr>\n",
       "  </tbody>\n",
       "</table>\n",
       "</div>"
      ],
      "text/plain": [
       "     outlook  temp humidity  windy play\n",
       "0      sunny   hot     high  False   no\n",
       "1      sunny   hot     high   True   no\n",
       "2   overcast   hot     high  False  yes\n",
       "3      rainy  mild     high  False  yes\n",
       "4      rainy  cool   normal  False  yes\n",
       "5      rainy  cool   normal   True   no\n",
       "6   overcast  cool   normal   True  yes\n",
       "7      sunny  mild     high  False   no\n",
       "8      sunny  cool   normal  False  yes\n",
       "9      rainy  mild   normal  False  yes\n",
       "10     sunny  mild   normal   True  yes\n",
       "11  overcast  mild     high   True  yes\n",
       "12  overcast   hot   normal  False  yes\n",
       "13     rainy  mild     high   True   no"
      ]
     },
     "execution_count": 21,
     "metadata": {},
     "output_type": "execute_result"
    }
   ],
   "source": [
    "data = pd.read_csv('tennis.csv')\n",
    "data"
   ]
  },
  {
   "cell_type": "markdown",
   "id": "5967be5c",
   "metadata": {},
   "source": [
    "### Preprocessing Data"
   ]
  },
  {
   "cell_type": "code",
   "execution_count": 33,
   "id": "af600125",
   "metadata": {},
   "outputs": [
    {
     "data": {
      "text/plain": [
       "[['sunny', 'overcast', 'rainy'],\n",
       " ['hot', 'mild', 'cool'],\n",
       " ['high', 'normal'],\n",
       " [False, True],\n",
       " ['no', 'yes']]"
      ]
     },
     "execution_count": 33,
     "metadata": {},
     "output_type": "execute_result"
    }
   ],
   "source": [
    "data_list_string = list()\n",
    "\n",
    "# Loop melalui setiap kolom (fitur) dalam DataFrame 'data'\n",
    "for col in data:\n",
    "    # Mengambil nilai unik dari setiap kolom dan mengonversinya menjadi daftar\n",
    "    data_list_string.append(data[col].unique().tolist())\n",
    "\n",
    "# Menyimpan daftar nilai unik dari setiap kolom dalam 'data_list_string'\n",
    "data_list_string\n"
   ]
  },
  {
   "cell_type": "code",
   "execution_count": 23,
   "id": "9a01a790",
   "metadata": {},
   "outputs": [],
   "source": [
    "X = data.drop('play',axis=1)\n",
    "Y = data['play']"
   ]
  },
  {
   "cell_type": "markdown",
   "id": "674362ae",
   "metadata": {},
   "source": [
    "### Encoding Data String to Int"
   ]
  },
  {
   "cell_type": "code",
   "execution_count": 24,
   "id": "4551bb4d",
   "metadata": {},
   "outputs": [],
   "source": [
    "from sklearn.preprocessing import LabelEncoder"
   ]
  },
  {
   "cell_type": "code",
   "execution_count": 37,
   "id": "0ab7158a",
   "metadata": {},
   "outputs": [
    {
     "data": {
      "text/plain": [
       "[[2, 0, 1], [1, 2, 0], [0, 1], [0, 1]]"
      ]
     },
     "execution_count": 37,
     "metadata": {},
     "output_type": "execute_result"
    }
   ],
   "source": [
    "# Inisialisasi objek LabelEncoder\n",
    "encode = LabelEncoder()\n",
    "\n",
    "# Menggunakan LabelEncoder untuk mengkodekan setiap kolom dalam dataset X\n",
    "for col in X:\n",
    "    X[col] = encode.fit_transform(X[col])\n",
    "\n",
    "# Menggunakan LabelEncoder untuk mengkodekan kolom target Y\n",
    "Y = encode.fit_transform(Y)\n",
    "\n",
    "# Inisialisasi list data numerik\n",
    "data_list_num = list()\n",
    "\n",
    "# Loop melalui kolom-kolom dalam dataset X\n",
    "for col in X:\n",
    "    # Mengambil nilai numerik unik dari setiap kolom dan mengonversinya menjadi daftar\n",
    "    data_list_num.append(X[col].unique().tolist())\n",
    "\n",
    "# Menyimpan daftar nilai numerik unik dari setiap kolom dalam 'data_list_num'\n",
    "data_list_num\n"
   ]
  },
  {
   "cell_type": "code",
   "execution_count": 40,
   "id": "7492c26e",
   "metadata": {},
   "outputs": [
    {
     "data": {
      "text/plain": [
       "{'sunny': 2,\n",
       " 'overcast': 0,\n",
       " 'rainy': 1,\n",
       " 'hot': 1,\n",
       " 'mild': 2,\n",
       " 'cool': 0,\n",
       " 'high': 0,\n",
       " 'normal': 1,\n",
       " False: 0,\n",
       " True: 1}"
      ]
     },
     "execution_count": 40,
     "metadata": {},
     "output_type": "execute_result"
    }
   ],
   "source": [
    "data_key = {}\n",
    "\n",
    "# Loop melalui daftar data numerik dan daftar data string\n",
    "for i in range(len(data_list_num)):\n",
    "    for j in range(len(data_list_num[i])):\n",
    "        # Membuat pemetaan antara nilai string ke nilai numerik\n",
    "        data_key[data_list_string[i][j]] = data_list_num[i][j]\n",
    "\n",
    "# Hasilnya adalah kamus (dictionary) yang memetakan nilai string ke nilai numerik\n",
    "data_key\n"
   ]
  },
  {
   "cell_type": "markdown",
   "id": "22fe5352",
   "metadata": {},
   "source": [
    "### Modeling"
   ]
  },
  {
   "cell_type": "code",
   "execution_count": 41,
   "id": "635010b6",
   "metadata": {},
   "outputs": [
    {
     "data": {
      "text/plain": [
       "DecisionTreeClassifier()"
      ]
     },
     "execution_count": 41,
     "metadata": {},
     "output_type": "execute_result"
    }
   ],
   "source": [
    "from sklearn.tree import DecisionTreeClassifier\n",
    "model_tree = DecisionTreeClassifier()\n",
    "model_tree.fit(X,Y)"
   ]
  },
  {
   "cell_type": "code",
   "execution_count": 36,
   "id": "efdd1ccb",
   "metadata": {},
   "outputs": [
    {
     "data": {
      "text/plain": [
       "[0, 2, 1, 0]"
      ]
     },
     "execution_count": 36,
     "metadata": {},
     "output_type": "execute_result"
    }
   ],
   "source": [
    "# Data uji awal dalam bentuk string\n",
    "data_test = ['overcast', 'mild', 'normal', False]\n",
    "\n",
    "# Loop melalui data uji dan mengganti nilai string menjadi nilai numerik\n",
    "for i in range(len(data_test)):\n",
    "    data_test[i] = data_key[data_test[i]]\n",
    "\n",
    "# Hasilnya adalah data uji dalam bentuk numerik\n",
    "data_test\n"
   ]
  },
  {
   "cell_type": "code",
   "execution_count": 35,
   "id": "f4042a81",
   "metadata": {},
   "outputs": [
    {
     "name": "stdout",
     "output_type": "stream",
     "text": [
      "Hasil prediksi Play = yes\n"
     ]
    }
   ],
   "source": [
    "# Melakukan prediksi dengan model decision tree terhadap data uji tunggal (data_test)\n",
    "prediksi = model_tree.predict([data_test])\n",
    "\n",
    "# Memeriksa hasil prediksi dan mencetak hasil berdasarkan kelas yang diprediksi\n",
    "if prediksi == 1:\n",
    "    print(\"Hasil prediksi Play = yes\")\n",
    "else:\n",
    "    print(\"Hasil prediksi Play = no\")\n"
   ]
  },
  {
   "cell_type": "code",
   "execution_count": null,
   "id": "db7003bc",
   "metadata": {},
   "outputs": [],
   "source": []
  },
  {
   "cell_type": "code",
   "execution_count": null,
   "id": "dcca0ab4",
   "metadata": {},
   "outputs": [],
   "source": []
  }
 ],
 "metadata": {
  "kernelspec": {
   "display_name": "Python 3 (ipykernel)",
   "language": "python",
   "name": "python3"
  },
  "language_info": {
   "codemirror_mode": {
    "name": "ipython",
    "version": 3
   },
   "file_extension": ".py",
   "mimetype": "text/x-python",
   "name": "python",
   "nbconvert_exporter": "python",
   "pygments_lexer": "ipython3",
   "version": "3.9.13"
  }
 },
 "nbformat": 4,
 "nbformat_minor": 5
}
